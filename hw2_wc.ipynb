{
 "cells": [
  {
   "cell_type": "markdown",
   "metadata": {},
   "source": [
    "# PS 2 (MP1): Radon Transform over circles"
   ]
  },
  {
   "cell_type": "markdown",
   "metadata": {},
   "source": [
    "In class, we covered Radon transforms over lines. However, one could easily come up with a generalized radon transform that is over another parametric family of closed shapes. Here, we will explore Radon transforms over circles that have their centers on the $x$-axis and have increasing radii. Notice that this is also a two parameter family of closed curves."
   ]
  },
  {
   "cell_type": "code",
   "execution_count": 1,
   "metadata": {
    "scrolled": true
   },
   "outputs": [
    {
     "name": "stdout",
     "output_type": "stream",
     "text": [
      "Populating the interactive namespace from numpy and matplotlib\n"
     ]
    }
   ],
   "source": [
    "%pylab inline\n",
    "\n",
    "#import scipy.signal as sp # used for convolution\n",
    "#from scipy import ndimage\n",
    "\n",
    "#import matplotlib.pyplot as plt\n",
    "\n",
    "from skimage.io import imread\n",
    "from skimage import data_dir\n",
    "from skimage.transform import radon, iradon, rescale\n",
    "\n",
    "from __future__ import division"
   ]
  },
  {
   "cell_type": "code",
   "execution_count": 3,
   "metadata": {
    "scrolled": false
   },
   "outputs": [
    {
     "name": "stderr",
     "output_type": "stream",
     "text": [
      "C:\\Anaconda3\\lib\\site-packages\\skimage\\transform\\_warps.py:84: UserWarning: The default mode, 'constant', will be changed to 'reflect' in skimage 0.15.\n",
      "  warn(\"The default mode, 'constant', will be changed to 'reflect' in \"\n"
     ]
    },
    {
     "data": {
      "image/png": "[encoded data removed]",
      "text/plain": [
       "<matplotlib.figure.Figure at 0x20d726c3860>"
      ]
     },
     "metadata": {},
     "output_type": "display_data"
    }
   ],
   "source": [
    "N = 64# reduce this if code is too slow N = 64 originally\n",
    "image = imread(data_dir + \"/phantom.png\", as_grey=True)\n",
    "image = rescale(image, (N / image.shape[0], N / image.shape[1]))\n",
    "plt.imshow(image, interpolation='None')\n",
    "plt.gray()"
   ]
  },
  {
   "cell_type": "markdown",
   "metadata": {},
   "source": [
    "## Radon transform on circles\n",
    "\n",
    "The Radon transform of a 2D image $f : \\mathbb{R}^2 \\to \\mathbb{R}$ is defined as a collection of integrals along circles\n",
    "\n",
    "$$\n",
    "    [\\mathcal{R} f](c,r) = \\int_\\ell f(x,y)\\delta\\left(\\sqrt{(x-c)^2 + y^2} - r\\right) dxdy\n",
    "$$\n"
   ]
  },
  {
   "cell_type": "markdown",
   "metadata": {},
   "source": [
    "## Forward operator\n",
    "\n",
    "Before, we can begin, it is perhaps helpful, to build a graph (dict, here) marking correspondences between the parametric (c,r) co-ordinates and (x,y) co-ordinates so that they can be used later without messy square root calculations. To do this, we have the `build_hashmap` function. Here, we store the aforementioned dictionary along with the arc-length (`cut_length`) the pixel cuts from the circle. This arc-length has been approximated here, so feel free to improve on the algorithm. If you do so, let me know explicitly in the report and mark the same here.\n",
    "\n",
    "Once we have the dictionaries (or hash-maps), we want to build a basis transformation matrix that would later take an image and give us its radon transform (on circles). To do so, we will use the cannonical basis and find its transform under the forward operator. I want you to implement this and for the same, it is easy to just use the hashmap.\n",
    "\n",
    "All over the code, I assume one pixel length to be my unit of distance."
   ]
  },
  {
   "cell_type": "markdown",
   "metadata": {},
   "source": [
    "### Caution\n",
    " \n",
    "I have tried my best to keep the code bug-free. If you notice a bug, please feel free to change the code. "
   ]
  },
  {
   "cell_type": "code",
   "execution_count": 4,
   "metadata": {},
   "outputs": [],
   "source": [
    "def build_hashmap(grid):\n",
    "    \"\"\"Input \n",
    "    :param grid: N x N x 2\n",
    "    \n",
    "    Returns\n",
    "    --------\n",
    "    hashmap_cr: dict with (c,r) keys that give a list of intersecting (x,y) points\n",
    "                along with their cut-lengths\n",
    "    hashmap_xy: dict with (x,y) keys that give a list of intersecting (c,r) points\n",
    "                along with their cut-lengths\n",
    "                \n",
    "    hashmap has following format:\n",
    "    {(c/x, r/y): (x/c, y/r, cut_length)}\n",
    "    \n",
    "    Logic\n",
    "    ------\n",
    "    I use the four corners of a pixel and check the center's distance with each of the\n",
    "    four corners. If the radius, r is within the [`min_dist`, `max_dist`] range of the\n",
    "    pixel corner distances, I will proceed to calcuate the cut length.\n",
    "    \n",
    "    To calculate the cut length, I fit a quadratic w.r.t distance from center\n",
    "    whose roots are `min_dist` and `max_dist` and max value is sqrt(2). Then, just \n",
    "    using r in this quadratic, I get a cut-length.\n",
    "    \n",
    "    !! This is approximate cut-length, see if you can improve the algorithm. Although,\n",
    "    I am not sure, an improvement is required (at least for now!)\n",
    "    \n",
    "    Note\n",
    "    -----\n",
    "    [1] cut_lengths are defined as the arc-length of the circle cutting the pixel\n",
    "    [2] intersection of (c,r) with (x,y) implies that a circle with center ((c+0.5), 0)\n",
    "        and radius, r passes through the pixel (x,y) (using 0 based indexing)\n",
    "        \n",
    "    \"\"\"\n",
    "    from collections import defaultdict # to avoid try blocks\n",
    "    \n",
    "    N,_,_ = grid.shape\n",
    "    cgrid = np.arange(N)\n",
    "    rgrid = np.arange(1,int(N*1.414+1)) #radius max is sqrt(2)*N, min 1\n",
    "    g = np.array([grid[:,:,0]+1, grid[:,:,1]])\n",
    "    \n",
    "    # get the four corners\n",
    "    c0 = grid.copy() # deep copy required\n",
    "    \n",
    "    c1 = c0.copy()\n",
    "    c1[:,:,0] += 1\n",
    "    \n",
    "    c2 = c0.copy()\n",
    "    c1[:,:,1] += 1\n",
    "    \n",
    "    c3 = c0.copy()\n",
    "    c3[:,:,0] += 1\n",
    "    c3[:,:,1] += 1\n",
    "    \n",
    "    # used 4x required space here for this \n",
    "    # concise and readable code here!!\n",
    "    # Change if space-constrained \n",
    "    # (not the code; I mean your system :P)\n",
    "    \n",
    "    corners = np.stack((c0, c1, c2, c3))\n",
    "    \n",
    "    hashmap_cr = defaultdict(list) #cr to xy\n",
    "    hashmap_xy = defaultdict(list) #xy to cr\n",
    "    \n",
    "    # kept loop for ease of understanding\n",
    "    # feel free to remove and broadcast things!\n",
    "    for c in cgrid:\n",
    "        for r in rgrid:\n",
    "            center = np.array([[(c+1)/2.0, 0]])\n",
    "            d2corners =  np.linalg.norm(corners - center, axis = -1)\n",
    "            min_d2corners = np.min(d2corners, axis=0)\n",
    "            max_d2corners = np.max(d2corners, axis=0)\n",
    "            \n",
    "            pixels = list(zip(*np.where(np.logical_and(r>min_d2corners, r<max_d2corners))))\n",
    "    \n",
    "            if len(pixels)>1:\n",
    "                for tup in pixels:\n",
    "                    x1, y1 = tup\n",
    "                    # take distances along four corners\n",
    "                    # assume that the cut length decreases quadratically\n",
    "                    # from the diagonal cut towards the far end \n",
    "                    # and near end corner (where the cut length is zero)\n",
    "                    maxd, mind = max_d2corners[x1,y1], min_d2corners[x1,y1]\n",
    "\n",
    "                    # fit a concave quadratic to this and find radius based cut\n",
    "                    \n",
    "                    # scale so that sqrt(2) is the max cut_length possible\n",
    "                    # this is approximate, feel free to improve\n",
    "                    # for eg. notice that this approximation breaks down\n",
    "                    # when pixel is right above the (c,0) pixel\n",
    "                    \n",
    "                    cut_length = 4*1.414*(r-mind)*(maxd-r)/(maxd-mind)**2\n",
    "                    \n",
    "                    hashmap_cr[(c,r)].append((x1,y1,cut_length))\n",
    "                    hashmap_xy[(x1,y1)].append((c,r,cut_length))\n",
    "                        \n",
    "    return hashmap_cr, hashmap_xy"
   ]
  },
  {
   "cell_type": "code",
   "execution_count": 5,
   "metadata": {},
   "outputs": [],
   "source": [
    "def build(n):\n",
    "    \"\"\"Builds a grid + hashmap from the grid\n",
    "    :param n: grid size (reduce this if too slow)\n",
    "    \n",
    "    Grid is not required, hence not returned.\n",
    "    This is used solely for hashmap building purposes.\n",
    "    \n",
    "    Returns\n",
    "    -------\n",
    "    the hashmaps\n",
    "    \"\"\"\n",
    "    a = np.arange(n)\n",
    "    grid = np.array(np.meshgrid(a,a))\n",
    "    grid= np.swapaxes(grid, 0, 2)\n",
    "    grid= np.swapaxes(grid, 0, 1)\n",
    "    return build_hashmap(grid)\n",
    "\n",
    "cr2xy, xy2cr = build(N)"
   ]
  },
  {
   "cell_type": "code",
   "execution_count": 6,
   "metadata": {
    "scrolled": true
   },
   "outputs": [],
   "source": [
    "nr = int(N*1.414) # radius can go upto sqrt(2)*N\n",
    "\n",
    "def forward_op(xy2cr, n=[N,nr]):\n",
    "    \"\"\"Builds basis vectors in (c,r) using basis vectors in (x,y)\n",
    "    \n",
    "    :param xy2cr: hashmap that given (x,y) pixel gives all the (c,r)\n",
    "                that need updating with cut_length values given as \n",
    "                the third entry of the tuple\n",
    "                n: grid data containing xy and cr area, for the transform n=[N,nr]\n",
    "                \n",
    "    Returns:\n",
    "    -------\n",
    "    mat: the matrix operator associated with the input grid n(N,nr) and the dict xy2cr\n",
    "    \"\"\"\n",
    "    mat = np.zeros([n[0]*n[1],n[0]**2])#transform from N*N to N*R\n",
    "    for x in range(n[0]):\n",
    "      for y in range(n[1]):\n",
    "          for tup in xy2cr[(x,y)]:\n",
    "             mat[n[1]*tup[0]+tup[1]-1,n[0]*x+y]=1 #coordinate remap using dict xy2cr\n",
    "    return mat"
   ]
  },
  {
   "cell_type": "markdown",
   "metadata": {},
   "source": [
    "## Lights, circles, action!\n",
    "\n",
    "Apply the transform to the image `image`."
   ]
  },
  {
   "cell_type": "code",
   "execution_count": 7,
   "metadata": {},
   "outputs": [
    {
     "data": {
      "text/plain": [
       "<matplotlib.image.AxesImage at 0x20d777b6160>"
      ]
     },
     "execution_count": 7,
     "metadata": {},
     "output_type": "execute_result"
    },
    {
     "data": {
      "image/png": "[encoded data removed]",
      "text/plain": [
       "<matplotlib.figure.Figure at 0x20d73766ba8>"
      ]
     },
     "metadata": {},
     "output_type": "display_data"
    }
   ],
   "source": [
    "# image_cr = <result_from_forward_op> @ image.flatten()\n",
    "mat = forward_op(xy2cr, n=[N,nr])\n",
    "image_cr = (mat  @ image.flatten()).reshape(N, nr)\n",
    "fig = plt.figure(figsize=(8, 14))\n",
    "plt.title('Circle Transform applied onto the Image')\n",
    "plt.imshow(image_cr, interpolation='None')"
   ]
  },
  {
   "cell_type": "markdown",
   "metadata": {},
   "source": [
    "### Find the adjoint operator (here, transpose)"
   ]
  },
  {
   "cell_type": "code",
   "execution_count": 8,
   "metadata": {},
   "outputs": [],
   "source": [
    "#ecr_adj = <get-adj-op>\n",
    "ecr_adj = mat.T"
   ]
  },
  {
   "cell_type": "markdown",
   "metadata": {},
   "source": [
    "### Find the inverse operator (here, pseudoinverse)"
   ]
  },
  {
   "cell_type": "code",
   "execution_count": 10,
   "metadata": {},
   "outputs": [],
   "source": [
    "#ecr_pinv = <get-inverse-op>\n",
    "ecr_pinv = np.linalg.pinv(mat)"
   ]
  },
  {
   "cell_type": "markdown",
   "metadata": {},
   "source": [
    "### Check and report the reconstruction error\n",
    "\n",
    "Apply the inverse and adjoint operator from the previous cell, and check the error w.r.t. original image.\n"
   ]
  },
  {
   "cell_type": "code",
   "execution_count": 13,
   "metadata": {},
   "outputs": [
    {
     "name": "stdout",
     "output_type": "stream",
     "text": [
      "error_pinv= 1.747448860032296e-11\n",
      "error_adj= 48575.333405672405\n"
     ]
    },
    {
     "data": {
      "image/png": "[encoded data removed]",
      "text/plain": [
       "<matplotlib.figure.Figure at 0x20d0b412588>"
      ]
     },
     "metadata": {},
     "output_type": "display_data"
    },
    {
     "data": {
      "image/png": "[encoded data removed]",
      "text/plain": [
       "<matplotlib.figure.Figure at 0x20d0b451d68>"
      ]
     },
     "metadata": {},
     "output_type": "display_data"
    }
   ],
   "source": [
    "# reconstruction = <\\result_from_pseduoinverse> @ image_cr\n",
    "rec_pinv = (ecr_pinv @ image_cr.flatten()).reshape(N,N)\n",
    "fig = plt.figure(figsize=(8, 8))\n",
    "plt.title('Reconstructed Image using Pseduoinverse')\n",
    "plt.imshow(rec_pinv, interpolation='None')\n",
    "# get error of reconstruction\n",
    "error_pinv = np.linalg.norm((rec_pinv-image),axis=(0,1))\n",
    "print('error_pinv=',error_pinv)\n",
    "# reconstruction = <\\result_from_transpose> @ image_cr\n",
    "rec_adj = np.dot(ecr_adj ,image_cr.flatten()).reshape(N,N)\n",
    "fig = plt.figure(figsize=(8, 8))\n",
    "plt.title('Reconstructed Image using Adjoint')\n",
    "plt.imshow(rec_adj, interpolation='None')\n",
    "# get error of reconstruction\n",
    "error_adj = np.linalg.norm((rec_adj-image),axis=(0,1))\n",
    "print('error_adj=',error_adj)"
   ]
  },
  {
   "cell_type": "markdown",
   "metadata": {},
   "source": [
    "# PS 2 (MP2): X-ray diffraction"
   ]
  },
  {
   "cell_type": "markdown",
   "metadata": {},
   "source": [
    "### Scattering potential function\n",
    "\n",
    "You are given a 3D-grid with a certain occupancy `occ` function that has been struck with some EM waves at an angle initial $\\psi_0$ and $\\phi_0$. Your task is to find the scattering function $A(\\phi, \\psi)$ as defined in Blahut's textbook. Plot the magnitude of the received signal, $\\nu(\\phi, \\psi)=\\lambda^3 A(\\phi, \\psi)$.  "
   ]
  },
  {
   "cell_type": "code",
   "execution_count": 14,
   "metadata": {},
   "outputs": [],
   "source": [
    "import numpy as np\n",
    "import matplotlib.pyplot as plt\n",
    "from skimage.filters import gaussian\n",
    "from scipy.fftpack import fftn\n",
    "from scipy.interpolate import griddata\n",
    "\n",
    "N = 20 # number of grid points\n",
    "M = 4 # space (MxMxM) an atom occupies\n",
    "K = 3 # number of atoms\n",
    "sigma = 1 # std-deviation\n",
    "\n",
    "a = np.linspace(0,1,N) \n",
    "\n",
    "# original grid \n",
    "# || Note: you will need to figure out the\n",
    "# frequencies at which we have our fftn\n",
    "\n",
    "grid = np.stack(np.meshgrid(a,a,a), axis=3)\n",
    "\n",
    "# occupancy grid\n",
    "occ = np.zeros((N, N, N))\n",
    "\n",
    "# atoms are modelled as Gaussians\n",
    "atom = np.zeros((M, M, M))\n",
    "\n",
    "atom[M//2, M//2, M//2] = 1\n",
    "atom = gaussian(atom, sigma)\n",
    "\n",
    "x = np.random.rand(3, K) / 2 + .25\n",
    "\n",
    "for k in range(K):\n",
    "    # introduce 3 atoms\n",
    "    occ[int(x[0,k]*N)-M//2:int(x[0,k]*N)+M//2,\n",
    "         int(x[1,k]*N)-M//2:int(x[1,k]*N)+M//2,\n",
    "         int(x[2,k]*N)-M//2:int(x[2,k]*N)+M//2] += atom\n",
    "    \n",
    "# sample points on Ewald's sphere\n",
    "n_points = 100 # 100 points on sphere\n",
    "lam = 0.1 # wavelength of rays\n",
    "\n",
    "psi = np.linspace(0.0, 2*np.pi, n_points)\n",
    "phi = np.linspace(0.0, 2*np.pi, n_points)\n",
    "\n",
    "# generate a grid of (psi, phi)\n",
    "psi, phi = np.array(np.meshgrid(psi,phi))\n",
    "\n",
    "# vectorize the same to have (n_points*n_points,) array\n",
    "# instead of (n_points, n_points) array\n",
    "psi = psi.flatten()\n",
    "phi = phi.flatten()\n",
    "\n",
    "\n",
    "# use these to simplify fx, fy, fz calculations\n",
    "psi0 = 0\n",
    "phi0 = 0\n",
    "# for this grid, get the corresponding points on Ewald's sphere\n",
    "# note that you need not use np.fft.fftshifts here. You know the \n",
    "# FFT is over uniform samples. You just need to add a shift in all \n",
    "# components such that the fft of `occ` and required frequencies \n",
    "# are in the same range.    "
   ]
  },
  {
   "cell_type": "code",
   "execution_count": 15,
   "metadata": {},
   "outputs": [
    {
     "data": {
      "text/plain": [
       "Text(0.5,1,'Signal Magnitudes ')"
      ]
     },
     "execution_count": 15,
     "metadata": {},
     "output_type": "execute_result"
    },
    {
     "data": {
      "image/png": "[encoded data removed]",
      "text/plain": [
       "<matplotlib.figure.Figure at 0x20d0b4266a0>"
      ]
     },
     "metadata": {},
     "output_type": "display_data"
    }
   ],
   "source": [
    "### Your code goes here\n",
    "\n",
    "# for this grid, get the corresponding points on Ewald's sphere\n",
    "fx = (np.cos(psi)*np.sin(phi)-np.cos(psi0)*np.sin(phi0))/lam-(np.cos(psi)*np.sin(phi))>0 \n",
    "fy = (np.sin(psi)*np.sin(phi)-np.sin(psi0)*np.sin(phi0))/lam-(np.sin(psi)*np.sin(phi))>0 \n",
    "fz = (np.cos(psi)-np.cos(psi0))/lam-2*(np.cos(psi)>0) \n",
    "\n",
    "# Get the fft on <fx, fy, fz>. To do this you will use the fft\n",
    "# of the original `occ` (occupancy) and then interpolate\n",
    "fft_occ = fftn(occ)\n",
    "occ_vals = np.stack((fx,fy,fz), axis=1).reshape((-1,3))\n",
    "\n",
    "freq1 = np.fft.fftfreq(N,d=0.05)\n",
    "freq2 = np.fft.fftfreq(N,d=0.025)\n",
    "\n",
    "freqx, freqy, freqz = np.array(np.meshgrid(freq1,freq1,freq2)) #spherical coord resampling\n",
    "freqx = freqx.flatten()\n",
    "freqy = freqy.flatten()\n",
    "freqz = freqz.flatten()\n",
    "orig_freq = np.stack((freqx,freqy,freqz), axis=1).reshape((-1,3))\n",
    "occ_out = griddata(orig_freq, fft_occ.flatten(), occ_vals, method='linear')\n",
    "\n",
    "# Plot scattering potential and received signal magnitudes \n",
    "# in a 2D plot w.r.t \\phi and \\psi\n",
    "# You can make a 2D plot on a sphere too if needed.\n",
    "\n",
    "# Include your plots in the report.\n",
    "\n",
    "s_pot = occ_out.reshape(100,100)\n",
    "s_pot_mag = lam**3*np.absolute(s_pot)\n",
    "s_pot_mag_rec = np.zeros([100,100])\n",
    "s_pot_mag_rec[:,0:50] = s_pot_mag[:,50:100]\n",
    "s_pot_mag_rec[:,50:100] = s_pot_mag[:,0:50]\n",
    "\n",
    "fig = plt.figure(figsize=(8, 8))\n",
    "plt.imshow(s_pot_mag_rec)\n",
    "plt.title('Signal Magnitudes ')"
   ]
  },
  {
   "cell_type": "markdown",
   "metadata": {},
   "source": [
    "# Problem 2.6-Bonus\n",
    "## Hexagonal crystal lattice\n",
    "\n",
    "Consider the ideal infinite helix with b = $\\lambda/2$ and a = $\\lambda$. Sketch the scattering function $A(\\phi, \\psi)$ for the helix illuminated along the longitudinal axis."
   ]
  },
  {
   "cell_type": "code",
   "execution_count": 16,
   "metadata": {},
   "outputs": [
    {
     "data": {
      "text/plain": [
       "Text(0.5,1,'Signal Magnitudes for Helix Illumination along the Longitudinal Axis')"
      ]
     },
     "execution_count": 16,
     "metadata": {},
     "output_type": "execute_result"
    },
    {
     "data": {
      "image/png": "[encoded data removed]",
      "text/plain": [
       "<matplotlib.figure.Figure at 0x20d0b5beac8>"
      ]
     },
     "metadata": {},
     "output_type": "display_data"
    }
   ],
   "source": [
    "from scipy.special import jv\n",
    "b = lam/2\n",
    "a = lam\n",
    "psi = np.linspace(0.0, 2*np.pi, n_points)\n",
    "phi = np.linspace(0.0, 2*np.pi, n_points)\n",
    "helix = np.zeros([n_points,n_points])\n",
    "\n",
    "A1 = np.zeros([4,]) \n",
    "psi1 = np.zeros([4,])\n",
    "for i in range(4):\n",
    "    psivalue = 1-i/np.pi\n",
    "    psi1[i] = np.arccos(psivalue)\n",
    "    A1[i] = jv(i,2*np.pi*np.sin(psi1[i]))\n",
    "    \n",
    "helix[:,0] = A1[0]\n",
    "helix[:,13] = A1[1]\n",
    "helix[:,19] = A1[2]\n",
    "helix[:,24] = A1[3]\n",
    "\n",
    "fig = plt.figure(figsize=(8, 8))\n",
    "plt.imshow(np.absolute(helix))\n",
    "plt.title('Signal Magnitudes for Helix Illumination along the Longitudinal Axis')"
   ]
  },
  {
   "cell_type": "markdown",
   "metadata": {},
   "source": [
    "## Thermal noise\n",
    "\n",
    "Thermal energy causes molecules to randomly vibrate and thus imperfections in the spacing and orientation.In essence, it's the broadening of the grating main lobe.  "
   ]
  },
  {
   "cell_type": "code",
   "execution_count": 17,
   "metadata": {},
   "outputs": [
    {
     "data": {
      "text/plain": [
       "Text(0.5,1,'Signal Magnitudes under Thermal Noise')"
      ]
     },
     "execution_count": 17,
     "metadata": {},
     "output_type": "execute_result"
    },
    {
     "data": {
      "image/png": "[encoded data removed]",
      "text/plain": [
       "<matplotlib.figure.Figure at 0x20d0b5a5278>"
      ]
     },
     "metadata": {},
     "output_type": "display_data"
    }
   ],
   "source": [
    "N = 20 # number of grid points\n",
    "M = 4 # space (MxMxM) an atom occupies\n",
    "K = 3 # number of atoms\n",
    "sigma = 10000 # std-deviation\n",
    "\n",
    "a = np.linspace(0,1,N) \n",
    "\n",
    "# original grid \n",
    "# || Note: you will need to figure out the\n",
    "# frequencies at which we have our fftn\n",
    "\n",
    "grid = np.stack(np.meshgrid(a,a,a), axis=3)\n",
    "\n",
    "# occupancy grid\n",
    "occ = np.zeros((N, N, N))\n",
    "\n",
    "# atoms are modelled as Gaussians\n",
    "atom = np.zeros((M, M, M))\n",
    "\n",
    "atom[M//2, M//2, M//2] = 1\n",
    "atom = gaussian(atom, sigma)\n",
    "\n",
    "x = np.random.rand(3, K) / 2 + .25\n",
    "\n",
    "for k in range(K):\n",
    "    # introduce 3 atoms\n",
    "    occ[int(x[0,k]*N)-M//2:int(x[0,k]*N)+M//2,\n",
    "         int(x[1,k]*N)-M//2:int(x[1,k]*N)+M//2,\n",
    "         int(x[2,k]*N)-M//2:int(x[2,k]*N)+M//2] += atom\n",
    "    \n",
    "    \n",
    "### Your code goes here\n",
    "\n",
    "# sample points on Ewald's sphere\n",
    "n_points = 100 # 100 points on sphere\n",
    "lam = 0.1 # wavelength of rays\n",
    "\n",
    "psi = np.linspace(0.0, 2*np.pi, n_points)\n",
    "phi = np.linspace(0.0, 2*np.pi, n_points)\n",
    "# generate a grid of (psi, phi)\n",
    "psi, phi = np.array(np.meshgrid(psi,phi))\n",
    "\n",
    "# vectorize the same to have (n_points*n_points,) array\n",
    "# instead of (n_points, n_points) array\n",
    "psi = psi.flatten()\n",
    "phi = phi.flatten()\n",
    "\n",
    "\n",
    "# use these to simplify fx, fy, fz calculations\n",
    "psi0 = 0\n",
    "phi0 = 0\n",
    "# for this grid, get the corresponding points on Ewald's sphere\n",
    "# note that you need not use np.fft.fftshifts here. You know the \n",
    "# FFT is over uniform samples. You just need to add a shift in all \n",
    "# components such that the fft of `occ` and required frequencies \n",
    "# are in the same range.\n",
    "\n",
    "fx = (np.cos(psi)*np.sin(phi)-np.cos(psi0)*np.sin(phi0))/lam-(np.cos(psi)*np.sin(phi))>0 \n",
    "fy = (np.sin(psi)*np.sin(phi)-np.sin(psi0)*np.sin(phi0))/lam-(np.sin(psi)*np.sin(phi))>0 \n",
    "fz = (np.cos(psi)-np.cos(psi0))/lam-2*(np.cos(psi)>0) \n",
    "\n",
    "\n",
    "# Get the fft on <fx, fy, fz>. To do this you will use the fft\n",
    "# of the original `occ` (occupancy) and then interpolate\n",
    "# You need to calculate the grid of frequencies you have when you do\n",
    "# fft on the 'grid' defined earlier. You will use that in your griddata\n",
    "# function and interpolate on np.stack((fx,fy,fz), axis=1).reshape((-1,3))\n",
    "\n",
    "fft_occ = fftn(occ)\n",
    "occ_vals = np.stack((fx,fy,fz), axis=1).reshape((-1,3))\n",
    "\n",
    "freq1 = np.fft.fftfreq(N,d=0.05)\n",
    "freq2 = np.fft.fftfreq(N,d=0.025)\n",
    "\n",
    "freqx, freqy, freqz = np.array(np.meshgrid(freq1,freq1,freq2)) #spherical coord resampling\n",
    "freqx = freqx.flatten()\n",
    "freqy = freqy.flatten()\n",
    "freqz = freqz.flatten()\n",
    "orig_freq = np.stack((freqx,freqy,freqz), axis=1).reshape((-1,3))\n",
    "occ_out = griddata(orig_freq, fft_occ.flatten(), occ_vals, method='linear')\n",
    " \n",
    "\n",
    "\n",
    "# Plot scattering potential and received signal magnitudes \n",
    "# in a 2D plot w.r.t \\phi and \\psi\n",
    "\n",
    "# plt.imshow(<reshaped output>)\n",
    "\n",
    "# You can make a 2D plot on a sphere too if needed.\n",
    "\n",
    "# Include your plots in the report.\n",
    "\n",
    "s_pot = occ_out.reshape(100,100)\n",
    "s_pot_mag = lam**3*np.absolute(s_pot)\n",
    "s_pot_mag_rec = np.zeros([100,100])\n",
    "s_pot_mag_rec[:,0:50] = s_pot_mag[:,50:100]\n",
    "s_pot_mag_rec[:,50:100] = s_pot_mag[:,0:50]\n",
    "\n",
    "fig = plt.figure(figsize=(8, 8))\n",
    "plt.imshow(s_pot_mag_rec)\n",
    "plt.title('Signal Magnitudes under Thermal Noise')"
   ]
  },
  {
   "cell_type": "code",
   "execution_count": null,
   "metadata": {},
   "outputs": [],
   "source": []
  }
 ],
 "metadata": {
  "anaconda-cloud": {},
  "kernelspec": {
   "display_name": "Python 3",
   "language": "python",
   "name": "python3"
  },
  "language_info": {
   "codemirror_mode": {
    "name": "ipython",
    "version": 3
   },
   "file_extension": ".py",
   "mimetype": "text/x-python",
   "name": "python",
   "nbconvert_exporter": "python",
   "pygments_lexer": "ipython3",
   "version": "3.6.4"
  },
  "widgets": {
   "state": {
    "71d3960328924e159eafe9dc94cbf588": {
     "views": [
      {
       "cell_index": 4
      }
     ]
    }
   },
   "version": "1.2.0"
  }
 },
 "nbformat": 4,
 "nbformat_minor": 1
}
